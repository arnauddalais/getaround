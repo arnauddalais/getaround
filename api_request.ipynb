{
 "cells": [
  {
   "cell_type": "code",
   "execution_count": 1,
   "metadata": {},
   "outputs": [],
   "source": [
    "import requests\n",
    "import json"
   ]
  },
  {
   "cell_type": "code",
   "execution_count": 5,
   "metadata": {},
   "outputs": [
    {
     "name": "stdout",
     "output_type": "stream",
     "text": [
      "{'prediction': 118.0}\n"
     ]
    }
   ],
   "source": [
    "response = requests.post(\"https://getaround-ap.herokuapp.com/predict\", json={'model_key': 'Peugeot', 'mileage' : '70000', 'engine_power':'100', 'fuel': 'diesel', 'paint_color' :  'grey', 'car_type' : 'suv',\n",
    "'private_parking_available' : True, 'has_gps' : False, 'has_air_conditioning' : True, 'automatic_car' : False,\n",
    "'has_getaround_connect' : False, 'has_speed_regulator' : True, 'winter_tires' : True})\n",
    "print(response.json())"
   ]
  },
  {
   "cell_type": "code",
   "execution_count": null,
   "metadata": {},
   "outputs": [],
   "source": []
  }
 ],
 "metadata": {
  "kernelspec": {
   "display_name": "Python 3",
   "language": "python",
   "name": "python3"
  },
  "language_info": {
   "codemirror_mode": {
    "name": "ipython",
    "version": 3
   },
   "file_extension": ".py",
   "mimetype": "text/x-python",
   "name": "python",
   "nbconvert_exporter": "python",
   "pygments_lexer": "ipython3",
   "version": "3.10.7"
  },
  "orig_nbformat": 4,
  "vscode": {
   "interpreter": {
    "hash": "278252670ec473998422183e7c7c20bd7526adc6817e623fe2d4e128b05eb28d"
   }
  }
 },
 "nbformat": 4,
 "nbformat_minor": 2
}
